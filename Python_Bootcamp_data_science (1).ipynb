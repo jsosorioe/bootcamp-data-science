{
  "nbformat": 4,
  "nbformat_minor": 0,
  "metadata": {
    "kernelspec": {
      "display_name": "Python 3",
      "language": "python",
      "name": "python3"
    },
    "language_info": {
      "codemirror_mode": {
        "name": "ipython",
        "version": 3
      },
      "file_extension": ".py",
      "mimetype": "text/x-python",
      "name": "python",
      "nbconvert_exporter": "python",
      "pygments_lexer": "ipython3",
      "version": "3.7.6"
    },
    "colab": {
      "name": "Python Bootcamp data science.ipynb",
      "provenance": [],
      "collapsed_sections": []
    }
  },
  "cells": [
    {
      "cell_type": "markdown",
      "metadata": {
        "id": "A8yCrhVHQ_lC"
      },
      "source": [
        "Task for dphi Bootcamp "
      ]
    },
    {
      "cell_type": "markdown",
      "metadata": {
        "id": "y_B39vCQGRTH"
      },
      "source": [
        "###Task 1\n",
        "\n",
        "We have declared a tuple containing five same elements as following:\n",
        "T = (‘python’, ‘python’, ‘python’, ‘python’, ‘python’).\n",
        "Re-write the same code in an optimal/simple way that fetches the same result."
      ]
    },
    {
      "cell_type": "code",
      "source": [
        "T= ('python',)*5\n",
        "print(T)"
      ],
      "metadata": {
        "colab": {
          "base_uri": "https://localhost:8080/"
        },
        "id": "SKUz8iddLdag",
        "outputId": "44e2edce-45f8-400f-b487-117bff3c7531"
      },
      "execution_count": null,
      "outputs": [
        {
          "output_type": "stream",
          "name": "stdout",
          "text": [
            "('python', 'python', 'python', 'python', 'python')\n"
          ]
        }
      ]
    },
    {
      "cell_type": "markdown",
      "metadata": {
        "id": "H_8tFcijGRTQ"
      },
      "source": [
        "###Task 2\n",
        "\n",
        "Write code to print characters from a string that are present at an even index number.\n",
        "For example, if your input string is \"python\", the output characters will be (p,t,o)."
      ]
    },
    {
      "cell_type": "code",
      "source": [
        "word = input(\"input string is:\")\n",
        "i=0\n",
        "word_even=list()\n",
        "while i <= len(word)-1:\n",
        "  if not i%2>0:\n",
        "    word_even.append(word[int(i)])\n",
        "  i = i+1\n",
        "print(word_even)\n",
        "\n",
        "#or\n",
        "word_lst = list(word)\n",
        "word_even2 = word_lst[0::2]\n",
        "print(word_even2)"
      ],
      "metadata": {
        "colab": {
          "base_uri": "https://localhost:8080/"
        },
        "id": "rx9QKLrrMgCO",
        "outputId": "22278086-221c-47c2-9ec5-1082575da68a"
      },
      "execution_count": null,
      "outputs": [
        {
          "output_type": "stream",
          "name": "stdout",
          "text": [
            "input string is:python\n",
            "['p', 't', 'o']\n",
            "['p', 't', 'o']\n"
          ]
        }
      ]
    },
    {
      "cell_type": "markdown",
      "metadata": {
        "id": "FbLVbwcsGRTT"
      },
      "source": [
        "### Task 3\n",
        "\n",
        "Write a function that calculates the average of the elements of the list: \n",
        "\n",
        "elements = [5, 7, 4, 9, 2]\n"
      ]
    },
    {
      "cell_type": "code",
      "source": [
        "elements = [5,7,4,9,2]\n",
        "def average(num):\n",
        "    return print(sum(num)/len(num))\n",
        "\n",
        "average(elements)"
      ],
      "metadata": {
        "colab": {
          "base_uri": "https://localhost:8080/"
        },
        "id": "d4ufwQJxMh_L",
        "outputId": "202e6d7b-423c-44a3-8cdf-d3ee606b15bc"
      },
      "execution_count": null,
      "outputs": [
        {
          "output_type": "stream",
          "name": "stdout",
          "text": [
            "5.4\n"
          ]
        }
      ]
    },
    {
      "cell_type": "markdown",
      "metadata": {
        "id": "2pzfM3wS4oqt"
      },
      "source": [
        "### Task 4\n",
        "Write code to find if the given year is a leap year or not."
      ]
    },
    {
      "cell_type": "code",
      "source": [
        "import calendar\n",
        "year = input(\"input year: \")\n",
        "val=calendar.isleap(int(year))\n",
        "print('the',year, 'is a leap year?', val)"
      ],
      "metadata": {
        "colab": {
          "base_uri": "https://localhost:8080/"
        },
        "id": "J1WJGHGdMjNE",
        "outputId": "c2624a4a-71e5-4530-e646-60cbafd940fb"
      },
      "execution_count": null,
      "outputs": [
        {
          "output_type": "stream",
          "name": "stdout",
          "text": [
            "input year: 2022\n",
            "the 2022 is a leap year? False\n"
          ]
        }
      ]
    },
    {
      "cell_type": "markdown",
      "metadata": {
        "id": "zsVw9yrD5drx"
      },
      "source": [
        "### Task 5\n",
        "Given a list of numbers (integers), find the sum of second maximum and second minimum in the following list.\n",
        "\n",
        "l = [21, 6, 12, 57, 35, 61]"
      ]
    },
    {
      "cell_type": "code",
      "source": [
        "l = [21,6,12,57,35,61]\n",
        "l.sort()\n",
        "sec_max = l[-2]\n",
        "sec_min = l[1]\n",
        "seconds = sec_max+sec_min\n",
        "print(seconds)"
      ],
      "metadata": {
        "colab": {
          "base_uri": "https://localhost:8080/"
        },
        "id": "GGBYFxGyMj5p",
        "outputId": "2b736062-75ee-4c72-ce99-b9a01a3efed0"
      },
      "execution_count": null,
      "outputs": [
        {
          "output_type": "stream",
          "name": "stdout",
          "text": [
            "69\n"
          ]
        }
      ]
    },
    {
      "cell_type": "markdown",
      "metadata": {
        "id": "ftPUY0J_pfa-"
      },
      "source": [
        "##Scores\n",
        "\n",
        "Each of the tasks is of 2 mark each and the scores will be given accordingly after the notebook review."
      ]
    }
  ]
}